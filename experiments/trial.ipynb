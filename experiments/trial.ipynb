{
 "cells": [
  {
   "cell_type": "code",
   "execution_count": 25,
   "id": "fa36c224",
   "metadata": {},
   "outputs": [
    {
     "name": "stdout",
     "output_type": "stream",
     "text": [
      "CUDA AVAILABLE?: True\n",
      "i=0, num_remaining=6, minVal=-1370261376.000000\n",
      "i=1, num_remaining=6, minVal=32726.000000\n",
      "i=2, num_remaining=6, minVal=32729.000000\n",
      "i=3, num_remaining=6, minVal=32729.000000\n",
      "i=4, num_remaining=6, minVal=32729.000000\n",
      "Limit: None 0.00047087669372558594 result: tensor([[ 3,  2,  0,  4,  1, -1, -1]], device='cuda:0')\n"
     ]
    }
   ],
   "source": [
    "from torch_linear_assignment import batch_linear_assignment\n",
    "\n",
    "import torch \n",
    "from scipy.optimize import linear_sum_assignment\n",
    "from time import time\n",
    "\n",
    "import os\n",
    "\n",
    "\n",
    "def load_data(path, limx=None, limy=None, limz=None):\n",
    "    costs = torch.load(path)\n",
    "    sizes = costs.size()\n",
    "    if limx and limx >= sizes[0]:\n",
    "        limx = sizes[0]\n",
    "    if limy and limy >= sizes[1]:\n",
    "        limy = sizes[1]\n",
    "    if limz and limz >= sizes[2]:\n",
    "        limz = sizes[2]\n",
    "    return costs[:limx, :limy, :limz]\n",
    "\n",
    "if __name__ == '__main__':\n",
    "    PATH = '/root/torch-linear-assignment/data/train-end.pth'\n",
    "    N_MTR = 1\n",
    "    TASKS = None\n",
    "    is_cuda = torch.cuda.is_available()\n",
    "    print('CUDA AVAILABLE?:', is_cuda)\n",
    "    # costs = load_data(PATH)\n",
    "    costs = torch.IntTensor(1, 7, 5)\n",
    "    if is_cuda:\n",
    "        costs = costs.to('cuda')\n",
    "    start = time()\n",
    "    result_own = batch_linear_assignment(costs)\n",
    "    end = time()\n",
    "    print(f'Limit: {TASKS} {end - start} result: {result_own}')\n",
    "    # result_ref = linear_sum_assignment()\n"
   ]
  },
  {
   "cell_type": "code",
   "execution_count": 26,
   "id": "a46a06e9",
   "metadata": {},
   "outputs": [
    {
     "data": {
      "text/plain": [
       "torch.Size([1, 7])"
      ]
     },
     "execution_count": 26,
     "metadata": {},
     "output_type": "execute_result"
    }
   ],
   "source": [
    "result_own.size()"
   ]
  },
  {
   "cell_type": "code",
   "execution_count": 27,
   "id": "98988ea6",
   "metadata": {},
   "outputs": [],
   "source": [
    "result_own_np = result_own[0].cpu().numpy()"
   ]
  },
  {
   "cell_type": "code",
   "execution_count": 35,
   "id": "f0ebd45c",
   "metadata": {},
   "outputs": [],
   "source": [
    "res_sp = linear_sum_assignment(costs[0].cpu().numpy())"
   ]
  },
  {
   "cell_type": "code",
   "execution_count": 29,
   "id": "30383dbe",
   "metadata": {},
   "outputs": [],
   "source": [
    "padVal = costs[0, -1, -1]\n",
    "for i, el in enumerate(costs[0, 0]):\n",
    "    if el == padVal:\n",
    "        break"
   ]
  },
  {
   "cell_type": "code",
   "execution_count": 37,
   "id": "4d19fe05",
   "metadata": {},
   "outputs": [
    {
     "data": {
      "text/plain": [
       "(array([0, 1, 2, 3, 4]), array([3, 2, 1, 4, 0]))"
      ]
     },
     "execution_count": 37,
     "metadata": {},
     "output_type": "execute_result"
    }
   ],
   "source": [
    "res_sp[0], res_sp[1]"
   ]
  },
  {
   "cell_type": "code",
   "execution_count": 31,
   "id": "c744a820",
   "metadata": {},
   "outputs": [
    {
     "data": {
      "text/plain": [
       "(array([3, 2, 1, 4, 0]), array([ 3,  2,  0,  4,  1, -1, -1]))"
      ]
     },
     "execution_count": 31,
     "metadata": {},
     "output_type": "execute_result"
    }
   ],
   "source": [
    "res_sp, result_own_np"
   ]
  },
  {
   "cell_type": "code",
   "execution_count": 40,
   "id": "828ff9a7",
   "metadata": {},
   "outputs": [
    {
     "data": {
      "text/plain": [
       "(tensor([      32729,       32729,       32726,       32729, -1370261392],\n",
       "        device='cuda:0', dtype=torch.int32),\n",
       " tensor([[  339542224,       32729,   338979184,       32729,   306746992],\n",
       "         [      32729,   339558448,       32729,   339558448,       32729],\n",
       "         [-1370261344,       32726,   140777392,       32729,   338505200],\n",
       "         [      32729,   140777392,       32729,   140777392,       32729],\n",
       "         [-1370261392,       32726,   306746992,       32729,   321067440],\n",
       "         [      32729,   299354128,       32729,   339542224,       32729],\n",
       "         [  321067872,       32729,   339542224,       32729,   339558448]],\n",
       "        device='cuda:0', dtype=torch.int32))"
      ]
     },
     "execution_count": 40,
     "metadata": {},
     "output_type": "execute_result"
    }
   ],
   "source": [
    "costs[0][res_sp[0], res_sp[1]], costs[0]"
   ]
  },
  {
   "cell_type": "code",
   "execution_count": 38,
   "id": "1b483c97",
   "metadata": {},
   "outputs": [
    {
     "data": {
      "text/plain": [
       "tensor([[ 3,  2,  0,  4,  1, -1, -1]], device='cuda:0')"
      ]
     },
     "execution_count": 38,
     "metadata": {},
     "output_type": "execute_result"
    }
   ],
   "source": [
    "result_own"
   ]
  },
  {
   "cell_type": "code",
   "execution_count": null,
   "id": "be480bd1",
   "metadata": {},
   "outputs": [],
   "source": []
  }
 ],
 "metadata": {
  "kernelspec": {
   "display_name": "torch-linear-assignment-LhYdQqCX",
   "language": "python",
   "name": "python3"
  },
  "language_info": {
   "codemirror_mode": {
    "name": "ipython",
    "version": 3
   },
   "file_extension": ".py",
   "mimetype": "text/x-python",
   "name": "python",
   "nbconvert_exporter": "python",
   "pygments_lexer": "ipython3",
   "version": "3.10.12"
  }
 },
 "nbformat": 4,
 "nbformat_minor": 5
}
